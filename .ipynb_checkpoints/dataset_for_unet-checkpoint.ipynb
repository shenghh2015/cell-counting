{
 "cells": [
  {
   "cell_type": "code",
   "execution_count": 1,
   "metadata": {},
   "outputs": [],
   "source": [
    "from data_load import *\n",
    "import matplotlib.pyplot as plt"
   ]
  },
  {
   "cell_type": "code",
   "execution_count": 2,
   "metadata": {},
   "outputs": [],
   "source": [
    "from utils.file_load_save import *\n",
    "from utils.data_processing import *\n",
    "import os\n",
    "import numpy as np\n",
    "import glob"
   ]
  },
  {
   "cell_type": "code",
   "execution_count": 3,
   "metadata": {},
   "outputs": [],
   "source": [
    "def get_ax(rows=1, cols=1, size=16):\n",
    "    \"\"\"Return a Matplotlib Axes array to be used in\n",
    "    all visualizations in the notebook. Provide a\n",
    "    central point to control graph sizes.\n",
    "    \n",
    "    Adjust the size attribute to control how big to render images\n",
    "    \"\"\"\n",
    "    fig, ax = plt.subplots(rows, cols, figsize=(size*cols, size*rows))\n",
    "    fig.tight_layout()\n",
    "    SMALL_SIZE = 24\n",
    "    MEDIUM_SIZE = 24\n",
    "    BIGGER_SIZE = 24\n",
    "\n",
    "    plt.rc('font', size=SMALL_SIZE)          # controls default text sizes\n",
    "    plt.rc('axes', titlesize=SMALL_SIZE)     # fontsize of the axes title\n",
    "    plt.rc('axes', labelsize=MEDIUM_SIZE)    # fontsize of the x and y labels\n",
    "    plt.rc('xtick', labelsize=SMALL_SIZE)    # fontsize of the tick labels\n",
    "    plt.rc('ytick', labelsize=SMALL_SIZE)    # fontsize of the tick labels\n",
    "    plt.rc('legend', fontsize=SMALL_SIZE)    # legend fontsize\n",
    "    plt.rc('figure', titlesize=BIGGER_SIZE)  # fontsize of the figure title\n",
    "    return ax"
   ]
  },
  {
   "cell_type": "code",
   "execution_count": 5,
   "metadata": {},
   "outputs": [],
   "source": [
    "def cross_annot(radius=3, r =3.5):\n",
    "    cycle = np.zeros((2*radius+1,2*radius+1))\n",
    "    xs, ys = [],[]\n",
    "    for i in range(-radius, radius+1):\n",
    "        for j in range(-radius,radius+1):\n",
    "            if i**2+j**2<=r**2:\n",
    "                xs.append(i+radius); ys.append(j+radius)\n",
    "    cycle[xs,ys]=1\n",
    "    return cycle"
   ]
  },
  {
   "cell_type": "code",
   "execution_count": 6,
   "metadata": {},
   "outputs": [
    {
     "name": "stderr",
     "output_type": "stream",
     "text": [
      "Clipping input data to the valid range for imshow with RGB data ([0..1] for floats or [0..255] for integers).\n"
     ]
    },
    {
     "name": "stdout",
     "output_type": "stream",
     "text": [
      "(9, 9, 3)\n"
     ]
    },
    {
     "data": {
      "text/plain": [
       "<matplotlib.image.AxesImage at 0x7f1841db4eb8>"
      ]
     },
     "execution_count": 6,
     "metadata": {},
     "output_type": "execute_result"
    },
    {
     "data": {
      "image/png": "[encoded data removed]",
      "text/plain": [
       "<Figure size 1080x360 with 3 Axes>"
      ]
     },
     "metadata": {
      "needs_background": "light"
     },
     "output_type": "display_data"
    }
   ],
   "source": [
    "import cv2\n",
    "# path = '/home/sh38/cell_counting/datasets/mrcnn/bacterial/cross-1/train/000/images/000.png'\n",
    "# # Reading an image in default mode \n",
    "# image = cv2.imread(path) \n",
    "import numpy as np\n",
    "# Radius of circle \n",
    "radius = 4\n",
    "vis = np.zeros((radius*2+1, radius*2+1), np.float32)\n",
    "vis = cv2.cvtColor(vis, cv2.COLOR_GRAY2BGR)\n",
    "print(vis.shape)\n",
    "image = vis\n",
    "# Window name in which image is displayed \n",
    "window_name = 'Image'\n",
    "\n",
    "# Center coordinates \n",
    "center_coordinates = (radius, radius) \n",
    "   \n",
    "# Blue color in BGR \n",
    "color = (255, 0, 0) \n",
    "   \n",
    "# Line thickness of 2 px \n",
    "thickness = -1\n",
    "   \n",
    "# Using cv2.circle() method \n",
    "# Draw a circle with blue line borders of thickness of 2 px \n",
    "image = cv2.circle(image, center_coordinates, radius, color, thickness) \n",
    "   \n",
    "# Displaying the image  \n",
    "# cv2.imshow(window_name, image)\n",
    "ax = get_ax(1,3,5)\n",
    "ax[0].imshow(image);ax[1].imshow(image[:,:,0]);ax[2].imshow(solid_cycle(4,4.3))"
   ]
  },
  {
   "cell_type": "code",
   "execution_count": null,
   "metadata": {},
   "outputs": [],
   "source": []
  }
 ],
 "metadata": {
  "kernelspec": {
   "display_name": "Python 3",
   "language": "python",
   "name": "python3"
  },
  "language_info": {
   "codemirror_mode": {
    "name": "ipython",
    "version": 3
   },
   "file_extension": ".py",
   "mimetype": "text/x-python",
   "name": "python",
   "nbconvert_exporter": "python",
   "pygments_lexer": "ipython3",
   "version": "3.6.10"
  }
 },
 "nbformat": 4,
 "nbformat_minor": 4
}
